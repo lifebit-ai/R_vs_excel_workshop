{
 "cells": [
  {
   "cell_type": "code",
   "execution_count": 1,
   "metadata": {},
   "outputs": [],
   "source": [
    "# set how many columns / rows to show for dataframes\n",
    "options(repr.matrix.max.cols=150, repr.matrix.max.rows=10)"
   ]
  },
  {
   "cell_type": "markdown",
   "metadata": {},
   "source": [
    "# Variables and data\n",
    "Think of variables as an excel cell or group of cells that we can give a particular name - instead of \"B5\"."
   ]
  },
  {
   "cell_type": "code",
   "execution_count": 2,
   "metadata": {},
   "outputs": [],
   "source": [
    "# assign variables\n",
    "var1 <- 2                       # a number (numeric)\n",
    "var2 <- \"hello\"                 # a string (character)\n",
    "var3 <- c(1.0,2.3,2,6)          # a vector of numbers\n",
    "var4 <- c(\"a\", \"b\", \"cd\", \"ef\") # a vector of strings\n",
    "var5 <- TRUE                    # a boolean (true/false)"
   ]
  },
  {
   "cell_type": "markdown",
   "metadata": {},
   "source": [
    "If we want to see what is inside the variable we can use the `print()` function:"
   ]
  },
  {
   "cell_type": "code",
   "execution_count": 3,
   "metadata": {},
   "outputs": [
    {
     "name": "stdout",
     "output_type": "stream",
     "text": [
      "[1] 2\n"
     ]
    }
   ],
   "source": [
    "#print them out\n",
    "print(var1)"
   ]
  },
  {
   "cell_type": "code",
   "execution_count": 4,
   "metadata": {},
   "outputs": [
    {
     "name": "stdout",
     "output_type": "stream",
     "text": [
      "[1] \"a\"  \"b\"  \"cd\" \"ef\"\n"
     ]
    }
   ],
   "source": [
    "print(var4)"
   ]
  },
  {
   "cell_type": "markdown",
   "metadata": {},
   "source": [
    "In a jupyter notebook we can also just put the name of the variable (or any other R expression) at the end of a code section to see a nicer representation than what `print()` produces."
   ]
  },
  {
   "cell_type": "code",
   "execution_count": 5,
   "metadata": {},
   "outputs": [
    {
     "data": {
      "text/html": [
       "<style>\n",
       ".list-inline {list-style: none; margin:0; padding: 0}\n",
       ".list-inline>li {display: inline-block}\n",
       ".list-inline>li:not(:last-child)::after {content: \"\\00b7\"; padding: 0 .5ex}\n",
       "</style>\n",
       "<ol class=list-inline><li>'a'</li><li>'b'</li><li>'cd'</li><li>'ef'</li></ol>\n"
      ],
      "text/latex": [
       "\\begin{enumerate*}\n",
       "\\item 'a'\n",
       "\\item 'b'\n",
       "\\item 'cd'\n",
       "\\item 'ef'\n",
       "\\end{enumerate*}\n"
      ],
      "text/markdown": [
       "1. 'a'\n",
       "2. 'b'\n",
       "3. 'cd'\n",
       "4. 'ef'\n",
       "\n",
       "\n"
      ],
      "text/plain": [
       "[1] \"a\"  \"b\"  \"cd\" \"ef\""
      ]
     },
     "metadata": {},
     "output_type": "display_data"
    }
   ],
   "source": [
    "var4"
   ]
  },
  {
   "cell_type": "markdown",
   "metadata": {},
   "source": [
    "Now let's read a whole table from a .csv file into a variable we've decided to call `df` (for dataframe). We do this using the `read.csv()` function. Inside the function (between the brackets that follow the name of the function) we are specifying arguments to the function. In this case, the first argument is the path to the file we want to load and the second argument is defining what seperator is used in this file.\n",
    "\n",
    "For the `read.csv()` function the first argument is always the file path so we don't need to use the argument name. For the other arguments, we need to specify their name e.g. `sep`."
   ]
  },
  {
   "cell_type": "code",
   "execution_count": 6,
   "metadata": {},
   "outputs": [
    {
     "data": {
      "text/html": [
       "<table>\n",
       "<caption>A data.frame: 150 × 5</caption>\n",
       "<thead>\n",
       "\t<tr><th scope=col>sepal_length</th><th scope=col>sepal_width</th><th scope=col>petal_length</th><th scope=col>petal_width</th><th scope=col>species</th></tr>\n",
       "\t<tr><th scope=col>&lt;dbl&gt;</th><th scope=col>&lt;dbl&gt;</th><th scope=col>&lt;dbl&gt;</th><th scope=col>&lt;dbl&gt;</th><th scope=col>&lt;chr&gt;</th></tr>\n",
       "</thead>\n",
       "<tbody>\n",
       "\t<tr><td>5.1</td><td>3.5</td><td>1.4</td><td>0.2</td><td>setosa</td></tr>\n",
       "\t<tr><td>4.9</td><td>3.0</td><td>1.4</td><td>0.2</td><td>setosa</td></tr>\n",
       "\t<tr><td>4.7</td><td>3.2</td><td>1.3</td><td>0.2</td><td>setosa</td></tr>\n",
       "\t<tr><td>4.6</td><td>3.1</td><td>1.5</td><td>0.2</td><td>setosa</td></tr>\n",
       "\t<tr><td>5.0</td><td>3.6</td><td>1.4</td><td>0.2</td><td>setosa</td></tr>\n",
       "\t<tr><td>⋮</td><td>⋮</td><td>⋮</td><td>⋮</td><td>⋮</td></tr>\n",
       "\t<tr><td>6.7</td><td>3.0</td><td>5.2</td><td>2.3</td><td>virginica</td></tr>\n",
       "\t<tr><td>6.3</td><td>2.5</td><td>5.0</td><td>1.9</td><td>virginica</td></tr>\n",
       "\t<tr><td>6.5</td><td>3.0</td><td>5.2</td><td>2.0</td><td>virginica</td></tr>\n",
       "\t<tr><td>6.2</td><td>3.4</td><td>5.4</td><td>2.3</td><td>virginica</td></tr>\n",
       "\t<tr><td>5.9</td><td>3.0</td><td>5.1</td><td>1.8</td><td>virginica</td></tr>\n",
       "</tbody>\n",
       "</table>\n"
      ],
      "text/latex": [
       "A data.frame: 150 × 5\n",
       "\\begin{tabular}{lllll}\n",
       " sepal\\_length & sepal\\_width & petal\\_length & petal\\_width & species\\\\\n",
       " <dbl> & <dbl> & <dbl> & <dbl> & <chr>\\\\\n",
       "\\hline\n",
       "\t 5.1 & 3.5 & 1.4 & 0.2 & setosa\\\\\n",
       "\t 4.9 & 3.0 & 1.4 & 0.2 & setosa\\\\\n",
       "\t 4.7 & 3.2 & 1.3 & 0.2 & setosa\\\\\n",
       "\t 4.6 & 3.1 & 1.5 & 0.2 & setosa\\\\\n",
       "\t 5.0 & 3.6 & 1.4 & 0.2 & setosa\\\\\n",
       "\t ⋮ & ⋮ & ⋮ & ⋮ & ⋮\\\\\n",
       "\t 6.7 & 3.0 & 5.2 & 2.3 & virginica\\\\\n",
       "\t 6.3 & 2.5 & 5.0 & 1.9 & virginica\\\\\n",
       "\t 6.5 & 3.0 & 5.2 & 2.0 & virginica\\\\\n",
       "\t 6.2 & 3.4 & 5.4 & 2.3 & virginica\\\\\n",
       "\t 5.9 & 3.0 & 5.1 & 1.8 & virginica\\\\\n",
       "\\end{tabular}\n"
      ],
      "text/markdown": [
       "\n",
       "A data.frame: 150 × 5\n",
       "\n",
       "| sepal_length &lt;dbl&gt; | sepal_width &lt;dbl&gt; | petal_length &lt;dbl&gt; | petal_width &lt;dbl&gt; | species &lt;chr&gt; |\n",
       "|---|---|---|---|---|\n",
       "| 5.1 | 3.5 | 1.4 | 0.2 | setosa |\n",
       "| 4.9 | 3.0 | 1.4 | 0.2 | setosa |\n",
       "| 4.7 | 3.2 | 1.3 | 0.2 | setosa |\n",
       "| 4.6 | 3.1 | 1.5 | 0.2 | setosa |\n",
       "| 5.0 | 3.6 | 1.4 | 0.2 | setosa |\n",
       "| ⋮ | ⋮ | ⋮ | ⋮ | ⋮ |\n",
       "| 6.7 | 3.0 | 5.2 | 2.3 | virginica |\n",
       "| 6.3 | 2.5 | 5.0 | 1.9 | virginica |\n",
       "| 6.5 | 3.0 | 5.2 | 2.0 | virginica |\n",
       "| 6.2 | 3.4 | 5.4 | 2.3 | virginica |\n",
       "| 5.9 | 3.0 | 5.1 | 1.8 | virginica |\n",
       "\n"
      ],
      "text/plain": [
       "    sepal_length sepal_width petal_length petal_width species  \n",
       "1   5.1          3.5         1.4          0.2         setosa   \n",
       "2   4.9          3.0         1.4          0.2         setosa   \n",
       "3   4.7          3.2         1.3          0.2         setosa   \n",
       "4   4.6          3.1         1.5          0.2         setosa   \n",
       "5   5.0          3.6         1.4          0.2         setosa   \n",
       "⋮   ⋮            ⋮           ⋮            ⋮           ⋮        \n",
       "146 6.7          3.0         5.2          2.3         virginica\n",
       "147 6.3          2.5         5.0          1.9         virginica\n",
       "148 6.5          3.0         5.2          2.0         virginica\n",
       "149 6.2          3.4         5.4          2.3         virginica\n",
       "150 5.9          3.0         5.1          1.8         virginica"
      ]
     },
     "metadata": {},
     "output_type": "display_data"
    }
   ],
   "source": [
    "# read a data table into R\n",
    "df <- read.csv('iris.csv', sep = ',', stringsAsFactors = FALSE)\n",
    "df # df is a data.frame"
   ]
  },
  {
   "cell_type": "markdown",
   "metadata": {},
   "source": [
    "# Manipulating data frames\n",
    "\n",
    "We have our data frame saved in the `df` variable. Now let's see how we can access different bits of that dataframe and how we can do some simple operations on the data in the data frame."
   ]
  },
  {
   "cell_type": "markdown",
   "metadata": {},
   "source": [
    "## Selecting values from a data frame\n",
    "\n",
    "First lets get the values from a single column using the `data.frame$column` syntax.\n",
    "\n",
    "This is the equivalent of selecting a column in excel with something like `A2:A40`. If we assign it to a variable it would be the equivalent of copying our selection to somewhere else in the spreadsheet."
   ]
  },
  {
   "cell_type": "code",
   "execution_count": 7,
   "metadata": {},
   "outputs": [
    {
     "data": {
      "text/html": [
       "<style>\n",
       ".list-inline {list-style: none; margin:0; padding: 0}\n",
       ".list-inline>li {display: inline-block}\n",
       ".list-inline>li:not(:last-child)::after {content: \"\\00b7\"; padding: 0 .5ex}\n",
       "</style>\n",
       "<ol class=list-inline><li>5.1</li><li>4.9</li><li>4.7</li><li>4.6</li><li>5</li><li>5.4</li></ol>\n"
      ],
      "text/latex": [
       "\\begin{enumerate*}\n",
       "\\item 5.1\n",
       "\\item 4.9\n",
       "\\item 4.7\n",
       "\\item 4.6\n",
       "\\item 5\n",
       "\\item 5.4\n",
       "\\end{enumerate*}\n"
      ],
      "text/markdown": [
       "1. 5.1\n",
       "2. 4.9\n",
       "3. 4.7\n",
       "4. 4.6\n",
       "5. 5\n",
       "6. 5.4\n",
       "\n",
       "\n"
      ],
      "text/plain": [
       "[1] 5.1 4.9 4.7 4.6 5.0 5.4"
      ]
     },
     "metadata": {},
     "output_type": "display_data"
    }
   ],
   "source": [
    "# get a single column\n",
    "head(df$sepal_length)"
   ]
  },
  {
   "cell_type": "markdown",
   "metadata": {},
   "source": [
    "A more versatile way of grabbing the bits of the data frame we want, is to use the `data.frame[rows, columns]` syntax. Here we are getting the value from row 2 in the \"species\" column.\n",
    "\n",
    "![select_cell](images/select_cell.gif)"
   ]
  },
  {
   "cell_type": "code",
   "execution_count": 8,
   "metadata": {},
   "outputs": [
    {
     "data": {
      "text/html": [
       "'setosa'"
      ],
      "text/latex": [
       "'setosa'"
      ],
      "text/markdown": [
       "'setosa'"
      ],
      "text/plain": [
       "[1] \"setosa\""
      ]
     },
     "metadata": {},
     "output_type": "display_data"
    }
   ],
   "source": [
    "# get only certain rows and columns\n",
    "df[2, \"species\"]"
   ]
  },
  {
   "cell_type": "markdown",
   "metadata": {},
   "source": [
    "We can also specify multiple rows and multiple columns by using vectors:"
   ]
  },
  {
   "cell_type": "code",
   "execution_count": 9,
   "metadata": {},
   "outputs": [
    {
     "data": {
      "text/html": [
       "<table>\n",
       "<caption>A data.frame: 2 × 2</caption>\n",
       "<thead>\n",
       "\t<tr><th></th><th scope=col>species</th><th scope=col>petal_width</th></tr>\n",
       "\t<tr><th></th><th scope=col>&lt;chr&gt;</th><th scope=col>&lt;dbl&gt;</th></tr>\n",
       "</thead>\n",
       "<tbody>\n",
       "\t<tr><th scope=row>6</th><td>setosa</td><td>0.4</td></tr>\n",
       "\t<tr><th scope=row>2</th><td>setosa</td><td>0.2</td></tr>\n",
       "</tbody>\n",
       "</table>\n"
      ],
      "text/latex": [
       "A data.frame: 2 × 2\n",
       "\\begin{tabular}{r|ll}\n",
       "  & species & petal\\_width\\\\\n",
       "  & <chr> & <dbl>\\\\\n",
       "\\hline\n",
       "\t6 & setosa & 0.4\\\\\n",
       "\t2 & setosa & 0.2\\\\\n",
       "\\end{tabular}\n"
      ],
      "text/markdown": [
       "\n",
       "A data.frame: 2 × 2\n",
       "\n",
       "| <!--/--> | species &lt;chr&gt; | petal_width &lt;dbl&gt; |\n",
       "|---|---|---|\n",
       "| 6 | setosa | 0.4 |\n",
       "| 2 | setosa | 0.2 |\n",
       "\n"
      ],
      "text/plain": [
       "  species petal_width\n",
       "6 setosa  0.4        \n",
       "2 setosa  0.2        "
      ]
     },
     "metadata": {},
     "output_type": "display_data"
    }
   ],
   "source": [
    "df[c(6,2), c(\"species\", \"petal_width\")]"
   ]
  },
  {
   "cell_type": "markdown",
   "metadata": {},
   "source": [
    "Or we can specify a range using `first:last` which is similar to dragging a formula in a spreadsheet.\n",
    "\n",
    "![multicell](images/select_multicells.gif)\n"
   ]
  },
  {
   "cell_type": "code",
   "execution_count": 10,
   "metadata": {},
   "outputs": [
    {
     "data": {
      "text/html": [
       "<table>\n",
       "<caption>A data.frame: 7 × 2</caption>\n",
       "<thead>\n",
       "\t<tr><th></th><th scope=col>species</th><th scope=col>petal_width</th></tr>\n",
       "\t<tr><th></th><th scope=col>&lt;chr&gt;</th><th scope=col>&lt;dbl&gt;</th></tr>\n",
       "</thead>\n",
       "<tbody>\n",
       "\t<tr><th scope=row>6</th><td>setosa</td><td>0.4</td></tr>\n",
       "\t<tr><th scope=row>7</th><td>setosa</td><td>0.3</td></tr>\n",
       "\t<tr><th scope=row>8</th><td>setosa</td><td>0.2</td></tr>\n",
       "\t<tr><th scope=row>9</th><td>setosa</td><td>0.2</td></tr>\n",
       "\t<tr><th scope=row>10</th><td>setosa</td><td>0.1</td></tr>\n",
       "\t<tr><th scope=row>11</th><td>setosa</td><td>0.2</td></tr>\n",
       "\t<tr><th scope=row>12</th><td>setosa</td><td>0.2</td></tr>\n",
       "</tbody>\n",
       "</table>\n"
      ],
      "text/latex": [
       "A data.frame: 7 × 2\n",
       "\\begin{tabular}{r|ll}\n",
       "  & species & petal\\_width\\\\\n",
       "  & <chr> & <dbl>\\\\\n",
       "\\hline\n",
       "\t6 & setosa & 0.4\\\\\n",
       "\t7 & setosa & 0.3\\\\\n",
       "\t8 & setosa & 0.2\\\\\n",
       "\t9 & setosa & 0.2\\\\\n",
       "\t10 & setosa & 0.1\\\\\n",
       "\t11 & setosa & 0.2\\\\\n",
       "\t12 & setosa & 0.2\\\\\n",
       "\\end{tabular}\n"
      ],
      "text/markdown": [
       "\n",
       "A data.frame: 7 × 2\n",
       "\n",
       "| <!--/--> | species &lt;chr&gt; | petal_width &lt;dbl&gt; |\n",
       "|---|---|---|\n",
       "| 6 | setosa | 0.4 |\n",
       "| 7 | setosa | 0.3 |\n",
       "| 8 | setosa | 0.2 |\n",
       "| 9 | setosa | 0.2 |\n",
       "| 10 | setosa | 0.1 |\n",
       "| 11 | setosa | 0.2 |\n",
       "| 12 | setosa | 0.2 |\n",
       "\n"
      ],
      "text/plain": [
       "   species petal_width\n",
       "6  setosa  0.4        \n",
       "7  setosa  0.3        \n",
       "8  setosa  0.2        \n",
       "9  setosa  0.2        \n",
       "10 setosa  0.1        \n",
       "11 setosa  0.2        \n",
       "12 setosa  0.2        "
      ]
     },
     "metadata": {},
     "output_type": "display_data"
    }
   ],
   "source": [
    "df[6:12, c(\"species\", \"petal_width\")]"
   ]
  },
  {
   "cell_type": "markdown",
   "metadata": {},
   "source": [
    "## Filtering a data frame\n",
    "\n",
    "One extremely useful feature is that we can use vectors of boolean values (`TRUE` or `FALSE`) that are the same length as the number of rows of the dataframe to choose rows based on a condition. \n",
    "\n",
    "If we use the comparison syntax demonstrated below, we can create a boolean vector which refers to whether each of the values in a column is less than 5 or not."
   ]
  },
  {
   "cell_type": "code",
   "execution_count": 11,
   "metadata": {},
   "outputs": [
    {
     "data": {
      "text/html": [
       "<style>\n",
       ".list-inline {list-style: none; margin:0; padding: 0}\n",
       ".list-inline>li {display: inline-block}\n",
       ".list-inline>li:not(:last-child)::after {content: \"\\00b7\"; padding: 0 .5ex}\n",
       "</style>\n",
       "<ol class=list-inline><li>FALSE</li><li>TRUE</li><li>TRUE</li><li>TRUE</li><li>FALSE</li><li>FALSE</li></ol>\n"
      ],
      "text/latex": [
       "\\begin{enumerate*}\n",
       "\\item FALSE\n",
       "\\item TRUE\n",
       "\\item TRUE\n",
       "\\item TRUE\n",
       "\\item FALSE\n",
       "\\item FALSE\n",
       "\\end{enumerate*}\n"
      ],
      "text/markdown": [
       "1. FALSE\n",
       "2. TRUE\n",
       "3. TRUE\n",
       "4. TRUE\n",
       "5. FALSE\n",
       "6. FALSE\n",
       "\n",
       "\n"
      ],
      "text/plain": [
       "[1] FALSE  TRUE  TRUE  TRUE FALSE FALSE"
      ]
     },
     "metadata": {},
     "output_type": "display_data"
    }
   ],
   "source": [
    "head(df$sepal_length < 5.0)"
   ]
  },
  {
   "cell_type": "markdown",
   "metadata": {},
   "source": [
    "Now let's use that expression to filter the rows of the dataframe.\n",
    "\n",
    "Note: we also left the column specification (i.e. the bit after the comma) blank - this is shorthand for selecting all the columns."
   ]
  },
  {
   "cell_type": "code",
   "execution_count": 12,
   "metadata": {},
   "outputs": [
    {
     "data": {
      "text/html": [
       "<table>\n",
       "<caption>A data.frame: 22 × 5</caption>\n",
       "<thead>\n",
       "\t<tr><th></th><th scope=col>sepal_length</th><th scope=col>sepal_width</th><th scope=col>petal_length</th><th scope=col>petal_width</th><th scope=col>species</th></tr>\n",
       "\t<tr><th></th><th scope=col>&lt;dbl&gt;</th><th scope=col>&lt;dbl&gt;</th><th scope=col>&lt;dbl&gt;</th><th scope=col>&lt;dbl&gt;</th><th scope=col>&lt;chr&gt;</th></tr>\n",
       "</thead>\n",
       "<tbody>\n",
       "\t<tr><th scope=row>2</th><td>4.9</td><td>3.0</td><td>1.4</td><td>0.2</td><td>setosa</td></tr>\n",
       "\t<tr><th scope=row>3</th><td>4.7</td><td>3.2</td><td>1.3</td><td>0.2</td><td>setosa</td></tr>\n",
       "\t<tr><th scope=row>4</th><td>4.6</td><td>3.1</td><td>1.5</td><td>0.2</td><td>setosa</td></tr>\n",
       "\t<tr><th scope=row>7</th><td>4.6</td><td>3.4</td><td>1.4</td><td>0.3</td><td>setosa</td></tr>\n",
       "\t<tr><th scope=row>9</th><td>4.4</td><td>2.9</td><td>1.4</td><td>0.2</td><td>setosa</td></tr>\n",
       "\t<tr><th scope=row>⋮</th><td>⋮</td><td>⋮</td><td>⋮</td><td>⋮</td><td>⋮</td></tr>\n",
       "\t<tr><th scope=row>43</th><td>4.4</td><td>3.2</td><td>1.3</td><td>0.2</td><td>setosa    </td></tr>\n",
       "\t<tr><th scope=row>46</th><td>4.8</td><td>3.0</td><td>1.4</td><td>0.3</td><td>setosa    </td></tr>\n",
       "\t<tr><th scope=row>48</th><td>4.6</td><td>3.2</td><td>1.4</td><td>0.2</td><td>setosa    </td></tr>\n",
       "\t<tr><th scope=row>58</th><td>4.9</td><td>2.4</td><td>3.3</td><td>1.0</td><td>versicolor</td></tr>\n",
       "\t<tr><th scope=row>107</th><td>4.9</td><td>2.5</td><td>4.5</td><td>1.7</td><td>virginica </td></tr>\n",
       "</tbody>\n",
       "</table>\n"
      ],
      "text/latex": [
       "A data.frame: 22 × 5\n",
       "\\begin{tabular}{r|lllll}\n",
       "  & sepal\\_length & sepal\\_width & petal\\_length & petal\\_width & species\\\\\n",
       "  & <dbl> & <dbl> & <dbl> & <dbl> & <chr>\\\\\n",
       "\\hline\n",
       "\t2 & 4.9 & 3.0 & 1.4 & 0.2 & setosa\\\\\n",
       "\t3 & 4.7 & 3.2 & 1.3 & 0.2 & setosa\\\\\n",
       "\t4 & 4.6 & 3.1 & 1.5 & 0.2 & setosa\\\\\n",
       "\t7 & 4.6 & 3.4 & 1.4 & 0.3 & setosa\\\\\n",
       "\t9 & 4.4 & 2.9 & 1.4 & 0.2 & setosa\\\\\n",
       "\t⋮ & ⋮ & ⋮ & ⋮ & ⋮ & ⋮\\\\\n",
       "\t43 & 4.4 & 3.2 & 1.3 & 0.2 & setosa    \\\\\n",
       "\t46 & 4.8 & 3.0 & 1.4 & 0.3 & setosa    \\\\\n",
       "\t48 & 4.6 & 3.2 & 1.4 & 0.2 & setosa    \\\\\n",
       "\t58 & 4.9 & 2.4 & 3.3 & 1.0 & versicolor\\\\\n",
       "\t107 & 4.9 & 2.5 & 4.5 & 1.7 & virginica \\\\\n",
       "\\end{tabular}\n"
      ],
      "text/markdown": [
       "\n",
       "A data.frame: 22 × 5\n",
       "\n",
       "| <!--/--> | sepal_length &lt;dbl&gt; | sepal_width &lt;dbl&gt; | petal_length &lt;dbl&gt; | petal_width &lt;dbl&gt; | species &lt;chr&gt; |\n",
       "|---|---|---|---|---|---|\n",
       "| 2 | 4.9 | 3.0 | 1.4 | 0.2 | setosa |\n",
       "| 3 | 4.7 | 3.2 | 1.3 | 0.2 | setosa |\n",
       "| 4 | 4.6 | 3.1 | 1.5 | 0.2 | setosa |\n",
       "| 7 | 4.6 | 3.4 | 1.4 | 0.3 | setosa |\n",
       "| 9 | 4.4 | 2.9 | 1.4 | 0.2 | setosa |\n",
       "| ⋮ | ⋮ | ⋮ | ⋮ | ⋮ | ⋮ |\n",
       "| 43 | 4.4 | 3.2 | 1.3 | 0.2 | setosa     |\n",
       "| 46 | 4.8 | 3.0 | 1.4 | 0.3 | setosa     |\n",
       "| 48 | 4.6 | 3.2 | 1.4 | 0.2 | setosa     |\n",
       "| 58 | 4.9 | 2.4 | 3.3 | 1.0 | versicolor |\n",
       "| 107 | 4.9 | 2.5 | 4.5 | 1.7 | virginica  |\n",
       "\n"
      ],
      "text/plain": [
       "    sepal_length sepal_width petal_length petal_width species   \n",
       "2   4.9          3.0         1.4          0.2         setosa    \n",
       "3   4.7          3.2         1.3          0.2         setosa    \n",
       "4   4.6          3.1         1.5          0.2         setosa    \n",
       "7   4.6          3.4         1.4          0.3         setosa    \n",
       "9   4.4          2.9         1.4          0.2         setosa    \n",
       "⋮   ⋮            ⋮           ⋮            ⋮           ⋮         \n",
       "43  4.4          3.2         1.3          0.2         setosa    \n",
       "46  4.8          3.0         1.4          0.3         setosa    \n",
       "48  4.6          3.2         1.4          0.2         setosa    \n",
       "58  4.9          2.4         3.3          1.0         versicolor\n",
       "107 4.9          2.5         4.5          1.7         virginica "
      ]
     },
     "metadata": {},
     "output_type": "display_data"
    }
   ],
   "source": [
    "df[df$sepal_length < 5.0, ]"
   ]
  },
  {
   "cell_type": "markdown",
   "metadata": {},
   "source": [
    "The full list of comparison operators you can use are: \n",
    "+ less than: `<`\n",
    "+ greater than: `>`\n",
    "+ less than or equal: `<=`\n",
    "+ greater than or equal: `>=`\n",
    "+ equal: `==`\n",
    "+ not equal: `!=`\n",
    "\n",
    "We can do even more complicated filtering by combining conditions. The operators you can use to combine conditions are the boolean operators: AND - `&`; OR - `|`. We can also use brackets and the NOT operator `!` to compose more complex conditions."
   ]
  },
  {
   "cell_type": "code",
   "execution_count": 13,
   "metadata": {},
   "outputs": [
    {
     "data": {
      "text/html": [
       "<table>\n",
       "<caption>A data.frame: 2 × 5</caption>\n",
       "<thead>\n",
       "\t<tr><th></th><th scope=col>sepal_length</th><th scope=col>sepal_width</th><th scope=col>petal_length</th><th scope=col>petal_width</th><th scope=col>species</th></tr>\n",
       "\t<tr><th></th><th scope=col>&lt;dbl&gt;</th><th scope=col>&lt;dbl&gt;</th><th scope=col>&lt;dbl&gt;</th><th scope=col>&lt;dbl&gt;</th><th scope=col>&lt;chr&gt;</th></tr>\n",
       "</thead>\n",
       "<tbody>\n",
       "\t<tr><th scope=row>58</th><td>4.9</td><td>2.4</td><td>3.3</td><td>1.0</td><td>versicolor</td></tr>\n",
       "\t<tr><th scope=row>107</th><td>4.9</td><td>2.5</td><td>4.5</td><td>1.7</td><td>virginica </td></tr>\n",
       "</tbody>\n",
       "</table>\n"
      ],
      "text/latex": [
       "A data.frame: 2 × 5\n",
       "\\begin{tabular}{r|lllll}\n",
       "  & sepal\\_length & sepal\\_width & petal\\_length & petal\\_width & species\\\\\n",
       "  & <dbl> & <dbl> & <dbl> & <dbl> & <chr>\\\\\n",
       "\\hline\n",
       "\t58 & 4.9 & 2.4 & 3.3 & 1.0 & versicolor\\\\\n",
       "\t107 & 4.9 & 2.5 & 4.5 & 1.7 & virginica \\\\\n",
       "\\end{tabular}\n"
      ],
      "text/markdown": [
       "\n",
       "A data.frame: 2 × 5\n",
       "\n",
       "| <!--/--> | sepal_length &lt;dbl&gt; | sepal_width &lt;dbl&gt; | petal_length &lt;dbl&gt; | petal_width &lt;dbl&gt; | species &lt;chr&gt; |\n",
       "|---|---|---|---|---|---|\n",
       "| 58 | 4.9 | 2.4 | 3.3 | 1.0 | versicolor |\n",
       "| 107 | 4.9 | 2.5 | 4.5 | 1.7 | virginica  |\n",
       "\n"
      ],
      "text/plain": [
       "    sepal_length sepal_width petal_length petal_width species   \n",
       "58  4.9          2.4         3.3          1.0         versicolor\n",
       "107 4.9          2.5         4.5          1.7         virginica "
      ]
     },
     "metadata": {},
     "output_type": "display_data"
    }
   ],
   "source": [
    "select <- df$sepal_length < 5.0 & df$species != \"setosa\"\n",
    "df[select, ]"
   ]
  },
  {
   "cell_type": "markdown",
   "metadata": {},
   "source": [
    "This is the equivalent of using the filter function in a spreadsheet:\n",
    "\n",
    "![filter](images/filter.gif)"
   ]
  },
  {
   "cell_type": "markdown",
   "metadata": {},
   "source": [
    "# Sorting a data frame\n",
    "\n",
    "To sort a data frame by a particular column or multiple columns we use the `order()` function. By default this will sort in *ascending* order but putting a `-` in front will switch it to *descending* order.\n",
    "\n",
    "The following sorts by sepal length in descending order, then by petal lenghth in ascending order:"
   ]
  },
  {
   "cell_type": "code",
   "execution_count": 14,
   "metadata": {},
   "outputs": [
    {
     "data": {
      "text/html": [
       "<table>\n",
       "<caption>A data.frame: 150 × 5</caption>\n",
       "<thead>\n",
       "\t<tr><th></th><th scope=col>sepal_length</th><th scope=col>sepal_width</th><th scope=col>petal_length</th><th scope=col>petal_width</th><th scope=col>species</th></tr>\n",
       "\t<tr><th></th><th scope=col>&lt;dbl&gt;</th><th scope=col>&lt;dbl&gt;</th><th scope=col>&lt;dbl&gt;</th><th scope=col>&lt;dbl&gt;</th><th scope=col>&lt;chr&gt;</th></tr>\n",
       "</thead>\n",
       "<tbody>\n",
       "\t<tr><th scope=row>132</th><td>7.9</td><td>3.8</td><td>6.4</td><td>2.0</td><td>virginica</td></tr>\n",
       "\t<tr><th scope=row>136</th><td>7.7</td><td>3.0</td><td>6.1</td><td>2.3</td><td>virginica</td></tr>\n",
       "\t<tr><th scope=row>118</th><td>7.7</td><td>3.8</td><td>6.7</td><td>2.2</td><td>virginica</td></tr>\n",
       "\t<tr><th scope=row>123</th><td>7.7</td><td>2.8</td><td>6.7</td><td>2.0</td><td>virginica</td></tr>\n",
       "\t<tr><th scope=row>119</th><td>7.7</td><td>2.6</td><td>6.9</td><td>2.3</td><td>virginica</td></tr>\n",
       "\t<tr><th scope=row>⋮</th><td>⋮</td><td>⋮</td><td>⋮</td><td>⋮</td><td>⋮</td></tr>\n",
       "\t<tr><th scope=row>42</th><td>4.5</td><td>2.3</td><td>1.3</td><td>0.3</td><td>setosa</td></tr>\n",
       "\t<tr><th scope=row>39</th><td>4.4</td><td>3.0</td><td>1.3</td><td>0.2</td><td>setosa</td></tr>\n",
       "\t<tr><th scope=row>43</th><td>4.4</td><td>3.2</td><td>1.3</td><td>0.2</td><td>setosa</td></tr>\n",
       "\t<tr><th scope=row>9</th><td>4.4</td><td>2.9</td><td>1.4</td><td>0.2</td><td>setosa</td></tr>\n",
       "\t<tr><th scope=row>14</th><td>4.3</td><td>3.0</td><td>1.1</td><td>0.1</td><td>setosa</td></tr>\n",
       "</tbody>\n",
       "</table>\n"
      ],
      "text/latex": [
       "A data.frame: 150 × 5\n",
       "\\begin{tabular}{r|lllll}\n",
       "  & sepal\\_length & sepal\\_width & petal\\_length & petal\\_width & species\\\\\n",
       "  & <dbl> & <dbl> & <dbl> & <dbl> & <chr>\\\\\n",
       "\\hline\n",
       "\t132 & 7.9 & 3.8 & 6.4 & 2.0 & virginica\\\\\n",
       "\t136 & 7.7 & 3.0 & 6.1 & 2.3 & virginica\\\\\n",
       "\t118 & 7.7 & 3.8 & 6.7 & 2.2 & virginica\\\\\n",
       "\t123 & 7.7 & 2.8 & 6.7 & 2.0 & virginica\\\\\n",
       "\t119 & 7.7 & 2.6 & 6.9 & 2.3 & virginica\\\\\n",
       "\t⋮ & ⋮ & ⋮ & ⋮ & ⋮ & ⋮\\\\\n",
       "\t42 & 4.5 & 2.3 & 1.3 & 0.3 & setosa\\\\\n",
       "\t39 & 4.4 & 3.0 & 1.3 & 0.2 & setosa\\\\\n",
       "\t43 & 4.4 & 3.2 & 1.3 & 0.2 & setosa\\\\\n",
       "\t9 & 4.4 & 2.9 & 1.4 & 0.2 & setosa\\\\\n",
       "\t14 & 4.3 & 3.0 & 1.1 & 0.1 & setosa\\\\\n",
       "\\end{tabular}\n"
      ],
      "text/markdown": [
       "\n",
       "A data.frame: 150 × 5\n",
       "\n",
       "| <!--/--> | sepal_length &lt;dbl&gt; | sepal_width &lt;dbl&gt; | petal_length &lt;dbl&gt; | petal_width &lt;dbl&gt; | species &lt;chr&gt; |\n",
       "|---|---|---|---|---|---|\n",
       "| 132 | 7.9 | 3.8 | 6.4 | 2.0 | virginica |\n",
       "| 136 | 7.7 | 3.0 | 6.1 | 2.3 | virginica |\n",
       "| 118 | 7.7 | 3.8 | 6.7 | 2.2 | virginica |\n",
       "| 123 | 7.7 | 2.8 | 6.7 | 2.0 | virginica |\n",
       "| 119 | 7.7 | 2.6 | 6.9 | 2.3 | virginica |\n",
       "| ⋮ | ⋮ | ⋮ | ⋮ | ⋮ | ⋮ |\n",
       "| 42 | 4.5 | 2.3 | 1.3 | 0.3 | setosa |\n",
       "| 39 | 4.4 | 3.0 | 1.3 | 0.2 | setosa |\n",
       "| 43 | 4.4 | 3.2 | 1.3 | 0.2 | setosa |\n",
       "| 9 | 4.4 | 2.9 | 1.4 | 0.2 | setosa |\n",
       "| 14 | 4.3 | 3.0 | 1.1 | 0.1 | setosa |\n",
       "\n"
      ],
      "text/plain": [
       "    sepal_length sepal_width petal_length petal_width species  \n",
       "132 7.9          3.8         6.4          2.0         virginica\n",
       "136 7.7          3.0         6.1          2.3         virginica\n",
       "118 7.7          3.8         6.7          2.2         virginica\n",
       "123 7.7          2.8         6.7          2.0         virginica\n",
       "119 7.7          2.6         6.9          2.3         virginica\n",
       "⋮   ⋮            ⋮           ⋮            ⋮           ⋮        \n",
       "42  4.5          2.3         1.3          0.3         setosa   \n",
       "39  4.4          3.0         1.3          0.2         setosa   \n",
       "43  4.4          3.2         1.3          0.2         setosa   \n",
       "9   4.4          2.9         1.4          0.2         setosa   \n",
       "14  4.3          3.0         1.1          0.1         setosa   "
      ]
     },
     "metadata": {},
     "output_type": "display_data"
    }
   ],
   "source": [
    "df[order(-df$sepal_length, df$petal_length), ]"
   ]
  },
  {
   "cell_type": "markdown",
   "metadata": {},
   "source": [
    "The equivalent in a spreadsheet would look like this:\n",
    "\n",
    "![sort](images/sort.gif)"
   ]
  },
  {
   "cell_type": "markdown",
   "metadata": {},
   "source": [
    "# Sums, means, medians, counts ...\n",
    "\n",
    "Let's now get some summary statistics for our filtered data."
   ]
  },
  {
   "cell_type": "markdown",
   "metadata": {},
   "source": [
    "The equivalent of the Excel `SUM()` function in R is `sum()`.\n",
    "\n",
    "![sum](sum.gif)"
   ]
  },
  {
   "cell_type": "code",
   "execution_count": 15,
   "metadata": {},
   "outputs": [
    {
     "data": {
      "text/html": [
       "170.9"
      ],
      "text/latex": [
       "170.9"
      ],
      "text/markdown": [
       "170.9"
      ],
      "text/plain": [
       "[1] 170.9"
      ]
     },
     "metadata": {},
     "output_type": "display_data"
    }
   ],
   "source": [
    "# sum\n",
    "sum(df[df$species == \"setosa\", \"sepal_width\"])"
   ]
  },
  {
   "cell_type": "markdown",
   "metadata": {},
   "source": [
    "The equivalent of the Excel `AVERAGE()` function in R is `mean()`.\n",
    "\n",
    "![mean](images/mean.gif)"
   ]
  },
  {
   "cell_type": "code",
   "execution_count": 16,
   "metadata": {},
   "outputs": [
    {
     "data": {
      "text/html": [
       "3.418"
      ],
      "text/latex": [
       "3.418"
      ],
      "text/markdown": [
       "3.418"
      ],
      "text/plain": [
       "[1] 3.418"
      ]
     },
     "metadata": {},
     "output_type": "display_data"
    }
   ],
   "source": [
    "# mean\n",
    "mean(df[df$species == \"setosa\", \"sepal_width\"])"
   ]
  },
  {
   "cell_type": "markdown",
   "metadata": {},
   "source": [
    "The equivalent of the Excel `MEDIAN()` function in R is `median()`.\n",
    "\n",
    "![median](images/median.gif)"
   ]
  },
  {
   "cell_type": "code",
   "execution_count": 17,
   "metadata": {},
   "outputs": [
    {
     "data": {
      "text/html": [
       "3.4"
      ],
      "text/latex": [
       "3.4"
      ],
      "text/markdown": [
       "3.4"
      ],
      "text/plain": [
       "[1] 3.4"
      ]
     },
     "metadata": {},
     "output_type": "display_data"
    }
   ],
   "source": [
    "# median\n",
    "median(df[df$species == \"setosa\", \"sepal_width\"])"
   ]
  },
  {
   "cell_type": "markdown",
   "metadata": {},
   "source": [
    "If we want to know how many rows are in a data frame we can use the `nrow()` function. This is somewhat equivalent to using `COUNT()` or `COUNTA()` in excel. However unlike Excel this will also include empty values, so you may want to filter out rows with blank values first."
   ]
  },
  {
   "cell_type": "code",
   "execution_count": 18,
   "metadata": {},
   "outputs": [
    {
     "data": {
      "text/html": [
       "50"
      ],
      "text/latex": [
       "50"
      ],
      "text/markdown": [
       "50"
      ],
      "text/plain": [
       "[1] 50"
      ]
     },
     "metadata": {},
     "output_type": "display_data"
    }
   ],
   "source": [
    "# how many rows\n",
    "nrow(df[df$species == \"setosa\", ])"
   ]
  },
  {
   "cell_type": "markdown",
   "metadata": {},
   "source": [
    "# The \"tidyverse\" makes some complicated operations very simple\n",
    "\n",
    "The tidyverse is a well known group of R packages that are designed to work well together and make complicated data manipulation more easy in R. We won't go into the huge variety of operations that tidyverse packages provide, but feel free to work through a tidyverse tutorial if you would like to learn more after this workshop (e.g. https://datacarpentry.org/R-ecology-lesson/03-dplyr.html).\n",
    "\n",
    "Let's load the packages `tidyr` and `dplyr`.\n",
    "\n",
    "NB: We won't use it here to keep things focused, but if you ever see someone's R code using `%>%`, they are using tidyverse functionality. I mention this only because this mysterious symbol confused me greatly the first time I saw it in some R code I was trying to read, and a bunch of symbols is hard to google to figure it out."
   ]
  },
  {
   "cell_type": "code",
   "execution_count": null,
   "metadata": {},
   "outputs": [],
   "source": [
    "# using dplyr / tidyr for some more complicated but commonly useful operations\n",
    "library(tidyr)\n",
    "library(dplyr)"
   ]
  },
  {
   "cell_type": "markdown",
   "metadata": {},
   "source": [
    "One operation that is incredibly useful is grouping and summarising.\n",
    "\n",
    "First we use the `group_by()` function, to which the first argument is our data frame, and all following arguments are the columns which contain the values to group by.\n",
    "\n",
    "In this case we group the data by the values in the `species` column.\n",
    "\n",
    "Next we use the `summarise()` function. The first argument is the grouped data frame, the following arguments are the names of the columns we want to make and the functions we want to use to get values for each group."
   ]
  },
  {
   "cell_type": "code",
   "execution_count": 20,
   "metadata": {},
   "outputs": [
    {
     "name": "stderr",
     "output_type": "stream",
     "text": [
      "`summarise()` ungrouping output (override with `.groups` argument)\n",
      "\n"
     ]
    },
    {
     "data": {
      "text/html": [
       "<table>\n",
       "<caption>A tibble: 3 × 3</caption>\n",
       "<thead>\n",
       "\t<tr><th scope=col>species</th><th scope=col>mean_petal_length</th><th scope=col>std.dev_petal_length</th></tr>\n",
       "\t<tr><th scope=col>&lt;chr&gt;</th><th scope=col>&lt;dbl&gt;</th><th scope=col>&lt;dbl&gt;</th></tr>\n",
       "</thead>\n",
       "<tbody>\n",
       "\t<tr><td>setosa    </td><td>1.464</td><td>0.1735112</td></tr>\n",
       "\t<tr><td>versicolor</td><td>4.260</td><td>0.4699110</td></tr>\n",
       "\t<tr><td>virginica </td><td>5.552</td><td>0.5518947</td></tr>\n",
       "</tbody>\n",
       "</table>\n"
      ],
      "text/latex": [
       "A tibble: 3 × 3\n",
       "\\begin{tabular}{lll}\n",
       " species & mean\\_petal\\_length & std.dev\\_petal\\_length\\\\\n",
       " <chr> & <dbl> & <dbl>\\\\\n",
       "\\hline\n",
       "\t setosa     & 1.464 & 0.1735112\\\\\n",
       "\t versicolor & 4.260 & 0.4699110\\\\\n",
       "\t virginica  & 5.552 & 0.5518947\\\\\n",
       "\\end{tabular}\n"
      ],
      "text/markdown": [
       "\n",
       "A tibble: 3 × 3\n",
       "\n",
       "| species &lt;chr&gt; | mean_petal_length &lt;dbl&gt; | std.dev_petal_length &lt;dbl&gt; |\n",
       "|---|---|---|\n",
       "| setosa     | 1.464 | 0.1735112 |\n",
       "| versicolor | 4.260 | 0.4699110 |\n",
       "| virginica  | 5.552 | 0.5518947 |\n",
       "\n"
      ],
      "text/plain": [
       "  species    mean_petal_length std.dev_petal_length\n",
       "1 setosa     1.464             0.1735112           \n",
       "2 versicolor 4.260             0.4699110           \n",
       "3 virginica  5.552             0.5518947           "
      ]
     },
     "metadata": {},
     "output_type": "display_data"
    }
   ],
   "source": [
    "grouped <- group_by(df, species)\n",
    "summarise(grouped, \n",
    "          mean_petal_length = mean(petal_length), \n",
    "          std.dev_petal_length = sd(petal_length) )"
   ]
  },
  {
   "cell_type": "markdown",
   "metadata": {},
   "source": [
    "This is the equivalent of a pivot table in a spreadsheet.\n",
    "\n",
    "![pivot](images/pivot.gif)"
   ]
  },
  {
   "cell_type": "markdown",
   "metadata": {},
   "source": [
    "A second operation that is very handy is `pivot_longer()`. This will help us transform wideform data tables into longform data tables. In general, R is designed to work with longform data, so the first step when importing data given in wideform into R, is often to convert to longform.\n",
    "\n",
    "Below is a wideform data table:"
   ]
  },
  {
   "cell_type": "code",
   "execution_count": 21,
   "metadata": {},
   "outputs": [
    {
     "data": {
      "text/html": [
       "<table>\n",
       "<caption>A data.frame: 16 × 5</caption>\n",
       "<thead>\n",
       "\t<tr><th scope=col>gene_name</th><th scope=col>sample1</th><th scope=col>sample2</th><th scope=col>sample3</th><th scope=col>sample4</th></tr>\n",
       "\t<tr><th scope=col>&lt;chr&gt;</th><th scope=col>&lt;dbl&gt;</th><th scope=col>&lt;dbl&gt;</th><th scope=col>&lt;dbl&gt;</th><th scope=col>&lt;dbl&gt;</th></tr>\n",
       "</thead>\n",
       "<tbody>\n",
       "\t<tr><td>Gnai3</td><td>15.685540</td><td>11.399195</td><td>11.469468</td><td>16.706409</td></tr>\n",
       "\t<tr><td>Cdc45</td><td> 5.703833</td><td> 0.000000</td><td> 1.274385</td><td> 1.518764</td></tr>\n",
       "\t<tr><td>H19  </td><td>44.204702</td><td>43.968324</td><td>66.268039</td><td>39.487877</td></tr>\n",
       "\t<tr><td>Scml2</td><td> 2.851916</td><td> 3.256913</td><td> 0.000000</td><td> 4.556293</td></tr>\n",
       "\t<tr><td>Narf </td><td>18.537456</td><td> 6.513826</td><td>17.841395</td><td>12.150116</td></tr>\n",
       "\t<tr><td>⋮</td><td>⋮</td><td>⋮</td><td>⋮</td><td>⋮</td></tr>\n",
       "\t<tr><td>Ngfr </td><td>25.667247</td><td>26.055303</td><td>29.310863</td><td>39.487877</td></tr>\n",
       "\t<tr><td>Wnt9a</td><td> 7.129791</td><td> 3.256913</td><td> 1.274385</td><td> 3.037529</td></tr>\n",
       "\t<tr><td>Fer  </td><td> 1.425958</td><td> 3.256913</td><td> 1.274385</td><td> 4.556293</td></tr>\n",
       "\t<tr><td>Xpo6 </td><td>41.352786</td><td>45.596781</td><td>17.841395</td><td>22.781467</td></tr>\n",
       "\t<tr><td>Tfe3 </td><td>25.667247</td><td>21.169934</td><td>12.743854</td><td>22.781467</td></tr>\n",
       "</tbody>\n",
       "</table>\n"
      ],
      "text/latex": [
       "A data.frame: 16 × 5\n",
       "\\begin{tabular}{lllll}\n",
       " gene\\_name & sample1 & sample2 & sample3 & sample4\\\\\n",
       " <chr> & <dbl> & <dbl> & <dbl> & <dbl>\\\\\n",
       "\\hline\n",
       "\t Gnai3 & 15.685540 & 11.399195 & 11.469468 & 16.706409\\\\\n",
       "\t Cdc45 &  5.703833 &  0.000000 &  1.274385 &  1.518764\\\\\n",
       "\t H19   & 44.204702 & 43.968324 & 66.268039 & 39.487877\\\\\n",
       "\t Scml2 &  2.851916 &  3.256913 &  0.000000 &  4.556293\\\\\n",
       "\t Narf  & 18.537456 &  6.513826 & 17.841395 & 12.150116\\\\\n",
       "\t ⋮ & ⋮ & ⋮ & ⋮ & ⋮\\\\\n",
       "\t Ngfr  & 25.667247 & 26.055303 & 29.310863 & 39.487877\\\\\n",
       "\t Wnt9a &  7.129791 &  3.256913 &  1.274385 &  3.037529\\\\\n",
       "\t Fer   &  1.425958 &  3.256913 &  1.274385 &  4.556293\\\\\n",
       "\t Xpo6  & 41.352786 & 45.596781 & 17.841395 & 22.781467\\\\\n",
       "\t Tfe3  & 25.667247 & 21.169934 & 12.743854 & 22.781467\\\\\n",
       "\\end{tabular}\n"
      ],
      "text/markdown": [
       "\n",
       "A data.frame: 16 × 5\n",
       "\n",
       "| gene_name &lt;chr&gt; | sample1 &lt;dbl&gt; | sample2 &lt;dbl&gt; | sample3 &lt;dbl&gt; | sample4 &lt;dbl&gt; |\n",
       "|---|---|---|---|---|\n",
       "| Gnai3 | 15.685540 | 11.399195 | 11.469468 | 16.706409 |\n",
       "| Cdc45 |  5.703833 |  0.000000 |  1.274385 |  1.518764 |\n",
       "| H19   | 44.204702 | 43.968324 | 66.268039 | 39.487877 |\n",
       "| Scml2 |  2.851916 |  3.256913 |  0.000000 |  4.556293 |\n",
       "| Narf  | 18.537456 |  6.513826 | 17.841395 | 12.150116 |\n",
       "| ⋮ | ⋮ | ⋮ | ⋮ | ⋮ |\n",
       "| Ngfr  | 25.667247 | 26.055303 | 29.310863 | 39.487877 |\n",
       "| Wnt9a |  7.129791 |  3.256913 |  1.274385 |  3.037529 |\n",
       "| Fer   |  1.425958 |  3.256913 |  1.274385 |  4.556293 |\n",
       "| Xpo6  | 41.352786 | 45.596781 | 17.841395 | 22.781467 |\n",
       "| Tfe3  | 25.667247 | 21.169934 | 12.743854 | 22.781467 |\n",
       "\n"
      ],
      "text/plain": [
       "   gene_name sample1   sample2   sample3   sample4  \n",
       "1  Gnai3     15.685540 11.399195 11.469468 16.706409\n",
       "2  Cdc45      5.703833  0.000000  1.274385  1.518764\n",
       "3  H19       44.204702 43.968324 66.268039 39.487877\n",
       "4  Scml2      2.851916  3.256913  0.000000  4.556293\n",
       "5  Narf      18.537456  6.513826 17.841395 12.150116\n",
       "⋮  ⋮         ⋮         ⋮         ⋮         ⋮        \n",
       "12 Ngfr      25.667247 26.055303 29.310863 39.487877\n",
       "13 Wnt9a      7.129791  3.256913  1.274385  3.037529\n",
       "14 Fer        1.425958  3.256913  1.274385  4.556293\n",
       "15 Xpo6      41.352786 45.596781 17.841395 22.781467\n",
       "16 Tfe3      25.667247 21.169934 12.743854 22.781467"
      ]
     },
     "metadata": {},
     "output_type": "display_data"
    }
   ],
   "source": [
    "df2 <- read.csv('tx_counts.tsv', sep='\\t', stringsAsFactors=FALSE)\n",
    "df2"
   ]
  },
  {
   "cell_type": "markdown",
   "metadata": {},
   "source": [
    "Now we convert it to longform by selecting wich columns we want to combine into a single column and what to name the value column and the label/name column."
   ]
  },
  {
   "cell_type": "code",
   "execution_count": 22,
   "metadata": {},
   "outputs": [
    {
     "data": {
      "text/html": [
       "<table>\n",
       "<caption>A tibble: 64 × 3</caption>\n",
       "<thead>\n",
       "\t<tr><th scope=col>gene_name</th><th scope=col>sample</th><th scope=col>cpm</th></tr>\n",
       "\t<tr><th scope=col>&lt;chr&gt;</th><th scope=col>&lt;chr&gt;</th><th scope=col>&lt;dbl&gt;</th></tr>\n",
       "</thead>\n",
       "<tbody>\n",
       "\t<tr><td>Gnai3</td><td>sample1</td><td>15.685540</td></tr>\n",
       "\t<tr><td>Gnai3</td><td>sample2</td><td>11.399195</td></tr>\n",
       "\t<tr><td>Gnai3</td><td>sample3</td><td>11.469468</td></tr>\n",
       "\t<tr><td>Gnai3</td><td>sample4</td><td>16.706409</td></tr>\n",
       "\t<tr><td>Cdc45</td><td>sample1</td><td> 5.703833</td></tr>\n",
       "\t<tr><td>⋮</td><td>⋮</td><td>⋮</td></tr>\n",
       "\t<tr><td>Xpo6</td><td>sample4</td><td>22.78147</td></tr>\n",
       "\t<tr><td>Tfe3</td><td>sample1</td><td>25.66725</td></tr>\n",
       "\t<tr><td>Tfe3</td><td>sample2</td><td>21.16993</td></tr>\n",
       "\t<tr><td>Tfe3</td><td>sample3</td><td>12.74385</td></tr>\n",
       "\t<tr><td>Tfe3</td><td>sample4</td><td>22.78147</td></tr>\n",
       "</tbody>\n",
       "</table>\n"
      ],
      "text/latex": [
       "A tibble: 64 × 3\n",
       "\\begin{tabular}{lll}\n",
       " gene\\_name & sample & cpm\\\\\n",
       " <chr> & <chr> & <dbl>\\\\\n",
       "\\hline\n",
       "\t Gnai3 & sample1 & 15.685540\\\\\n",
       "\t Gnai3 & sample2 & 11.399195\\\\\n",
       "\t Gnai3 & sample3 & 11.469468\\\\\n",
       "\t Gnai3 & sample4 & 16.706409\\\\\n",
       "\t Cdc45 & sample1 &  5.703833\\\\\n",
       "\t ⋮ & ⋮ & ⋮\\\\\n",
       "\t Xpo6 & sample4 & 22.78147\\\\\n",
       "\t Tfe3 & sample1 & 25.66725\\\\\n",
       "\t Tfe3 & sample2 & 21.16993\\\\\n",
       "\t Tfe3 & sample3 & 12.74385\\\\\n",
       "\t Tfe3 & sample4 & 22.78147\\\\\n",
       "\\end{tabular}\n"
      ],
      "text/markdown": [
       "\n",
       "A tibble: 64 × 3\n",
       "\n",
       "| gene_name &lt;chr&gt; | sample &lt;chr&gt; | cpm &lt;dbl&gt; |\n",
       "|---|---|---|\n",
       "| Gnai3 | sample1 | 15.685540 |\n",
       "| Gnai3 | sample2 | 11.399195 |\n",
       "| Gnai3 | sample3 | 11.469468 |\n",
       "| Gnai3 | sample4 | 16.706409 |\n",
       "| Cdc45 | sample1 |  5.703833 |\n",
       "| ⋮ | ⋮ | ⋮ |\n",
       "| Xpo6 | sample4 | 22.78147 |\n",
       "| Tfe3 | sample1 | 25.66725 |\n",
       "| Tfe3 | sample2 | 21.16993 |\n",
       "| Tfe3 | sample3 | 12.74385 |\n",
       "| Tfe3 | sample4 | 22.78147 |\n",
       "\n"
      ],
      "text/plain": [
       "   gene_name sample  cpm      \n",
       "1  Gnai3     sample1 15.685540\n",
       "2  Gnai3     sample2 11.399195\n",
       "3  Gnai3     sample3 11.469468\n",
       "4  Gnai3     sample4 16.706409\n",
       "5  Cdc45     sample1  5.703833\n",
       "⋮  ⋮         ⋮       ⋮        \n",
       "60 Xpo6      sample4 22.78147 \n",
       "61 Tfe3      sample1 25.66725 \n",
       "62 Tfe3      sample2 21.16993 \n",
       "63 Tfe3      sample3 12.74385 \n",
       "64 Tfe3      sample4 22.78147 "
      ]
     },
     "metadata": {},
     "output_type": "display_data"
    }
   ],
   "source": [
    "df2_long <- pivot_longer(data = df2,\n",
    "                         cols = c(sample1, sample2, sample3, sample4),\n",
    "                         values_to = \"cpm\",\n",
    "                         names_to = \"sample\")\n",
    "\n",
    "df2_long"
   ]
  },
  {
   "cell_type": "markdown",
   "metadata": {},
   "source": [
    "We can also do the reverse using `pivot_wider()`, which can be useful for making more compact summary tables for presentation."
   ]
  },
  {
   "cell_type": "code",
   "execution_count": 23,
   "metadata": {},
   "outputs": [
    {
     "data": {
      "text/html": [
       "<table>\n",
       "<caption>A tibble: 16 × 5</caption>\n",
       "<thead>\n",
       "\t<tr><th scope=col>gene_name</th><th scope=col>sample1</th><th scope=col>sample2</th><th scope=col>sample3</th><th scope=col>sample4</th></tr>\n",
       "\t<tr><th scope=col>&lt;chr&gt;</th><th scope=col>&lt;dbl&gt;</th><th scope=col>&lt;dbl&gt;</th><th scope=col>&lt;dbl&gt;</th><th scope=col>&lt;dbl&gt;</th></tr>\n",
       "</thead>\n",
       "<tbody>\n",
       "\t<tr><td>Gnai3</td><td>15.685540</td><td>11.399195</td><td>11.469468</td><td>16.706409</td></tr>\n",
       "\t<tr><td>Cdc45</td><td> 5.703833</td><td> 0.000000</td><td> 1.274385</td><td> 1.518764</td></tr>\n",
       "\t<tr><td>H19  </td><td>44.204702</td><td>43.968324</td><td>66.268039</td><td>39.487877</td></tr>\n",
       "\t<tr><td>Scml2</td><td> 2.851916</td><td> 3.256913</td><td> 0.000000</td><td> 4.556293</td></tr>\n",
       "\t<tr><td>Narf </td><td>18.537456</td><td> 6.513826</td><td>17.841395</td><td>12.150116</td></tr>\n",
       "\t<tr><td>⋮</td><td>⋮</td><td>⋮</td><td>⋮</td><td>⋮</td></tr>\n",
       "\t<tr><td>Ngfr </td><td>25.667247</td><td>26.055303</td><td>29.310863</td><td>39.487877</td></tr>\n",
       "\t<tr><td>Wnt9a</td><td> 7.129791</td><td> 3.256913</td><td> 1.274385</td><td> 3.037529</td></tr>\n",
       "\t<tr><td>Fer  </td><td> 1.425958</td><td> 3.256913</td><td> 1.274385</td><td> 4.556293</td></tr>\n",
       "\t<tr><td>Xpo6 </td><td>41.352786</td><td>45.596781</td><td>17.841395</td><td>22.781467</td></tr>\n",
       "\t<tr><td>Tfe3 </td><td>25.667247</td><td>21.169934</td><td>12.743854</td><td>22.781467</td></tr>\n",
       "</tbody>\n",
       "</table>\n"
      ],
      "text/latex": [
       "A tibble: 16 × 5\n",
       "\\begin{tabular}{lllll}\n",
       " gene\\_name & sample1 & sample2 & sample3 & sample4\\\\\n",
       " <chr> & <dbl> & <dbl> & <dbl> & <dbl>\\\\\n",
       "\\hline\n",
       "\t Gnai3 & 15.685540 & 11.399195 & 11.469468 & 16.706409\\\\\n",
       "\t Cdc45 &  5.703833 &  0.000000 &  1.274385 &  1.518764\\\\\n",
       "\t H19   & 44.204702 & 43.968324 & 66.268039 & 39.487877\\\\\n",
       "\t Scml2 &  2.851916 &  3.256913 &  0.000000 &  4.556293\\\\\n",
       "\t Narf  & 18.537456 &  6.513826 & 17.841395 & 12.150116\\\\\n",
       "\t ⋮ & ⋮ & ⋮ & ⋮ & ⋮\\\\\n",
       "\t Ngfr  & 25.667247 & 26.055303 & 29.310863 & 39.487877\\\\\n",
       "\t Wnt9a &  7.129791 &  3.256913 &  1.274385 &  3.037529\\\\\n",
       "\t Fer   &  1.425958 &  3.256913 &  1.274385 &  4.556293\\\\\n",
       "\t Xpo6  & 41.352786 & 45.596781 & 17.841395 & 22.781467\\\\\n",
       "\t Tfe3  & 25.667247 & 21.169934 & 12.743854 & 22.781467\\\\\n",
       "\\end{tabular}\n"
      ],
      "text/markdown": [
       "\n",
       "A tibble: 16 × 5\n",
       "\n",
       "| gene_name &lt;chr&gt; | sample1 &lt;dbl&gt; | sample2 &lt;dbl&gt; | sample3 &lt;dbl&gt; | sample4 &lt;dbl&gt; |\n",
       "|---|---|---|---|---|\n",
       "| Gnai3 | 15.685540 | 11.399195 | 11.469468 | 16.706409 |\n",
       "| Cdc45 |  5.703833 |  0.000000 |  1.274385 |  1.518764 |\n",
       "| H19   | 44.204702 | 43.968324 | 66.268039 | 39.487877 |\n",
       "| Scml2 |  2.851916 |  3.256913 |  0.000000 |  4.556293 |\n",
       "| Narf  | 18.537456 |  6.513826 | 17.841395 | 12.150116 |\n",
       "| ⋮ | ⋮ | ⋮ | ⋮ | ⋮ |\n",
       "| Ngfr  | 25.667247 | 26.055303 | 29.310863 | 39.487877 |\n",
       "| Wnt9a |  7.129791 |  3.256913 |  1.274385 |  3.037529 |\n",
       "| Fer   |  1.425958 |  3.256913 |  1.274385 |  4.556293 |\n",
       "| Xpo6  | 41.352786 | 45.596781 | 17.841395 | 22.781467 |\n",
       "| Tfe3  | 25.667247 | 21.169934 | 12.743854 | 22.781467 |\n",
       "\n"
      ],
      "text/plain": [
       "   gene_name sample1   sample2   sample3   sample4  \n",
       "1  Gnai3     15.685540 11.399195 11.469468 16.706409\n",
       "2  Cdc45      5.703833  0.000000  1.274385  1.518764\n",
       "3  H19       44.204702 43.968324 66.268039 39.487877\n",
       "4  Scml2      2.851916  3.256913  0.000000  4.556293\n",
       "5  Narf      18.537456  6.513826 17.841395 12.150116\n",
       "⋮  ⋮         ⋮         ⋮         ⋮         ⋮        \n",
       "12 Ngfr      25.667247 26.055303 29.310863 39.487877\n",
       "13 Wnt9a      7.129791  3.256913  1.274385  3.037529\n",
       "14 Fer        1.425958  3.256913  1.274385  4.556293\n",
       "15 Xpo6      41.352786 45.596781 17.841395 22.781467\n",
       "16 Tfe3      25.667247 21.169934 12.743854 22.781467"
      ]
     },
     "metadata": {},
     "output_type": "display_data"
    }
   ],
   "source": [
    "pivot_wider(data = df2_long,\n",
    "            names_from = sample,\n",
    "            values_from = cpm)"
   ]
  }
 ],
 "metadata": {
  "kernelspec": {
   "display_name": "R",
   "language": "R",
   "name": "ir"
  },
  "language_info": {
   "codemirror_mode": "r",
   "file_extension": ".r",
   "mimetype": "text/x-r-source",
   "name": "R",
   "pygments_lexer": "r",
   "version": "3.6.1"
  }
 },
 "nbformat": 4,
 "nbformat_minor": 4
}
